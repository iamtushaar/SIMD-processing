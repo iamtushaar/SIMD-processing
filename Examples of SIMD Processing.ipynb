{
 "cells": [
  {
   "cell_type": "markdown",
   "id": "471ed1c0-40e1-49f3-8045-28b405d37182",
   "metadata": {},
   "source": [
    "# Examples of SIMD Processing "
   ]
  },
  {
   "cell_type": "code",
   "execution_count": 1,
   "id": "32703474-886d-41c7-a629-543388930dc5",
   "metadata": {},
   "outputs": [],
   "source": [
    "import numpy as np\n",
    "import time"
   ]
  },
  {
   "cell_type": "markdown",
   "id": "48b5d146-65f7-4309-908b-e33d44a5edd0",
   "metadata": {},
   "source": [
    "### Addition of Arrays"
   ]
  },
  {
   "cell_type": "code",
   "execution_count": 3,
   "id": "ad466fd3-ffd9-497b-ae65-8250ea8e6159",
   "metadata": {},
   "outputs": [
    {
     "name": "stdout",
     "output_type": "stream",
     "text": [
      "Pure Python loop time: 0.518719 seconds\n",
      "NumPy (SIMD) time: 0.028724 seconds\n"
     ]
    }
   ],
   "source": [
    "# Create two large arrays\n",
    "N = 10**6\n",
    "a = np.random.rand(N)\n",
    "b = np.random.rand(N)\n",
    "\n",
    "# Pure Python loop (no SIMD)\n",
    "start = time.time()\n",
    "c = [a[i] + b[i] for i in range(N)]\n",
    "end = time.time()\n",
    "print(f\"Pure Python loop time: {end - start:.6f} seconds\")\n",
    "\n",
    "# NumPy array addition (with SIMD)\n",
    "start = time.time()\n",
    "c = a + b\n",
    "end = time.time()\n",
    "print(f\"NumPy (SIMD) time: {end - start:.6f} seconds\")"
   ]
  },
  {
   "cell_type": "markdown",
   "id": "6ba23a88-5afb-4407-9de0-e872b6987f6f",
   "metadata": {},
   "source": [
    "### Trigonometric Function (e.g., Sine)"
   ]
  },
  {
   "cell_type": "code",
   "execution_count": 5,
   "id": "fd2a8aa2-985a-49a2-8577-5fd3a9b40a29",
   "metadata": {},
   "outputs": [
    {
     "name": "stdout",
     "output_type": "stream",
     "text": [
      "Without SIMD: 19.74245 seconds\n",
      "With SIMD: 0.24002 seconds\n"
     ]
    }
   ],
   "source": [
    "# Define a large array\n",
    "angles = np.random.rand(10_000_000) * 2 * np.pi\n",
    "\n",
    "# Without SIMD (using Python loops)\n",
    "start = time.time()\n",
    "sines = np.zeros_like(angles)\n",
    "for i in range(len(angles)):\n",
    "    sines[i] = np.sin(angles[i])\n",
    "end = time.time()\n",
    "print(f\"Without SIMD: {end - start:.5f} seconds\")\n",
    "\n",
    "# With SIMD (using NumPy)\n",
    "start = time.time()\n",
    "sines = np.sin(angles)\n",
    "end = time.time()\n",
    "print(f\"With SIMD: {end - start:.5f} seconds\")"
   ]
  },
  {
   "cell_type": "markdown",
   "id": "b6d3949a-22ee-4927-a25e-08451d833145",
   "metadata": {},
   "source": [
    "### Matrix multiplication"
   ]
  },
  {
   "cell_type": "code",
   "execution_count": 11,
   "id": "ff233461-c0af-41ac-9a64-245dc0a64543",
   "metadata": {},
   "outputs": [
    {
     "name": "stdout",
     "output_type": "stream",
     "text": [
      "Without SIMD: 136.50 seconds\n",
      "With SIMD: 0.02 seconds\n"
     ]
    }
   ],
   "source": [
    "# Generate two large random matrices\n",
    "size = 500\n",
    "matrix_a = np.random.rand(size, size)\n",
    "matrix_b = np.random.rand(size, size)\n",
    "\n",
    "# Without SIMD (manual matrix multiplication)\n",
    "def manual_matrix_multiply(a, b):\n",
    "    result = np.zeros((a.shape[0], b.shape[1]))\n",
    "    for i in range(a.shape[0]):\n",
    "        for j in range(b.shape[1]):\n",
    "            for k in range(a.shape[1]):\n",
    "                result[i, j] += a[i, k] * b[k, j]\n",
    "    return result\n",
    "\n",
    "start = time.time()\n",
    "manual_result = manual_matrix_multiply(matrix_a, matrix_b)\n",
    "end = time.time()\n",
    "print(f\"Without SIMD: {end - start:.2f} seconds\")\n",
    "\n",
    "# With SIMD (NumPy's dot product)\n",
    "start = time.time()\n",
    "numpy_result = np.dot(matrix_a, matrix_b)\n",
    "end = time.time()\n",
    "print(f\"With SIMD: {end - start:.2f} seconds\")\n"
   ]
  },
  {
   "cell_type": "markdown",
   "id": "67fa9880-4295-4ef3-98db-a5119a43d632",
   "metadata": {},
   "source": [
    "### Image Convolution"
   ]
  },
  {
   "cell_type": "code",
   "execution_count": 20,
   "id": "0c643e28-a0a2-4524-ac9e-e1ca41983a82",
   "metadata": {},
   "outputs": [
    {
     "name": "stdout",
     "output_type": "stream",
     "text": [
      "Without SIMD (Manual Convolution): 22.82 seconds\n",
      "With SIMD (Scipy Convolution): 0.11 seconds\n"
     ]
    }
   ],
   "source": [
    "from scipy.signal import convolve2d\n",
    "\n",
    "# Generate a large random image and kernel\n",
    "image = np.random.rand(1000, 1000)\n",
    "kernel = np.array([[1, 0, -1], [1, 0, -1], [1, 0, -1]])  # Edge detection kernel\n",
    "\n",
    "# Manual convolution\n",
    "def manual_convolve2d(image, kernel):\n",
    "    image_height, image_width = image.shape\n",
    "    kernel_height, kernel_width = kernel.shape\n",
    "    output = np.zeros((image_height - kernel_height + 1, image_width - kernel_width + 1))\n",
    "    for i in range(output.shape[0]):\n",
    "        for j in range(output.shape[1]):\n",
    "            output[i, j] = np.sum(image[i:i+kernel_height, j:j+kernel_width] * kernel)\n",
    "    return output\n",
    "\n",
    "start = time.time()\n",
    "manual_conv = manual_convolve2d(image, kernel)\n",
    "end = time.time()\n",
    "print(f\"Without SIMD (Manual Convolution): {end - start:.2f} seconds\")\n",
    "start = time.time()\n",
    "simd_conv = convolve2d(image, kernel, mode='valid')\n",
    "end = time.time()\n",
    "print(f\"With SIMD (Scipy Convolution): {end - start:.2f} seconds\")"
   ]
  },
  {
   "cell_type": "markdown",
   "id": "e7354b2d-1af2-47e1-b196-00c3caba853b",
   "metadata": {},
   "source": [
    "### Bitwise Operations"
   ]
  },
  {
   "cell_type": "code",
   "execution_count": 18,
   "id": "76d90b4b-5d37-4297-bf75-351612da7027",
   "metadata": {},
   "outputs": [
    {
     "name": "stdout",
     "output_type": "stream",
     "text": [
      "Without SIMD (Manual Bitwise AND): 5.25 seconds\n",
      "With SIMD (Vectorized Bitwise AND): 0.04 seconds\n"
     ]
    }
   ],
   "source": [
    "# Generate two large arrays of integers\n",
    "array_a = np.random.randint(0, 2**16, size=10_000_000, dtype=np.int32)\n",
    "array_b = np.random.randint(0, 2**16, size=10_000_000, dtype=np.int32)\n",
    "\n",
    "# Without SIMD (manual bitwise AND)\n",
    "def manual_bitwise_and(a, b):\n",
    "    return [a[i] & b[i] for i in range(len(a))]\n",
    "\n",
    "start = time.time()\n",
    "manual_result = manual_bitwise_and(array_a, array_b)\n",
    "end = time.time()\n",
    "print(f\"Without SIMD (Manual Bitwise AND): {end - start:.2f} seconds\")\n",
    "\n",
    "# With SIMD (NumPy's bitwise_and)\n",
    "start = time.time()\n",
    "simd_result = np.bitwise_and(array_a, array_b)\n",
    "end = time.time()\n",
    "print(f\"With SIMD (Vectorized Bitwise AND): {end - start:.2f} seconds\")"
   ]
  },
  {
   "cell_type": "code",
   "execution_count": 24,
   "id": "f4c84747-2902-4ddf-a8c0-b48236ac526a",
   "metadata": {},
   "outputs": [
    {
     "name": "stdout",
     "output_type": "stream",
     "text": [
      "Collecting opencv-python\n",
      "  Downloading opencv_python-4.10.0.84-cp37-abi3-win_amd64.whl.metadata (20 kB)\n",
      "Requirement already satisfied: numpy>=1.21.2 in c:\\users\\tabendarkar\\appdata\\local\\anaconda3\\lib\\site-packages (from opencv-python) (1.26.4)\n",
      "Downloading opencv_python-4.10.0.84-cp37-abi3-win_amd64.whl (38.8 MB)\n",
      "   ---------------------------------------- 0.0/38.8 MB ? eta -:--:--\n",
      "   ---------------------------------------- 0.0/38.8 MB ? eta -:--:--\n",
      "   ---------------------------------------- 0.0/38.8 MB 435.7 kB/s eta 0:01:30\n",
      "   ---------------------------------------- 0.1/38.8 MB 751.6 kB/s eta 0:00:52\n",
      "   ---------------------------------------- 0.2/38.8 MB 1.4 MB/s eta 0:00:29\n",
      "    --------------------------------------- 0.5/38.8 MB 2.5 MB/s eta 0:00:16\n",
      "   - -------------------------------------- 1.1/38.8 MB 4.5 MB/s eta 0:00:09\n",
      "   -- ------------------------------------- 2.4/38.8 MB 8.2 MB/s eta 0:00:05\n",
      "   --- ------------------------------------ 2.9/38.8 MB 8.9 MB/s eta 0:00:05\n",
      "   ---- ----------------------------------- 4.0/38.8 MB 10.3 MB/s eta 0:00:04\n",
      "   ----- ---------------------------------- 5.4/38.8 MB 12.4 MB/s eta 0:00:03\n",
      "   ------ --------------------------------- 6.5/38.8 MB 13.9 MB/s eta 0:00:03\n",
      "   ------- -------------------------------- 7.2/38.8 MB 13.6 MB/s eta 0:00:03\n",
      "   --------- ------------------------------ 9.1/38.8 MB 15.7 MB/s eta 0:00:02\n",
      "   ---------- ----------------------------- 10.0/38.8 MB 16.4 MB/s eta 0:00:02\n",
      "   ----------- ---------------------------- 11.1/38.8 MB 23.4 MB/s eta 0:00:02\n",
      "   ------------- -------------------------- 13.0/38.8 MB 25.1 MB/s eta 0:00:02\n",
      "   -------------- ------------------------- 14.1/38.8 MB 27.3 MB/s eta 0:00:01\n",
      "   ---------------- ----------------------- 15.7/38.8 MB 28.4 MB/s eta 0:00:01\n",
      "   ----------------- ---------------------- 16.6/38.8 MB 27.3 MB/s eta 0:00:01\n",
      "   ----------------- ---------------------- 17.5/38.8 MB 29.7 MB/s eta 0:00:01\n",
      "   ------------------ --------------------- 18.0/38.8 MB 26.2 MB/s eta 0:00:01\n",
      "   ------------------- -------------------- 19.2/38.8 MB 24.2 MB/s eta 0:00:01\n",
      "   --------------------- ------------------ 21.4/38.8 MB 27.3 MB/s eta 0:00:01\n",
      "   ---------------------- ----------------- 22.3/38.8 MB 25.1 MB/s eta 0:00:01\n",
      "   ------------------------ --------------- 24.2/38.8 MB 27.3 MB/s eta 0:00:01\n",
      "   ------------------------- -------------- 24.6/38.8 MB 24.3 MB/s eta 0:00:01\n",
      "   -------------------------- ------------- 25.7/38.8 MB 24.2 MB/s eta 0:00:01\n",
      "   --------------------------- ------------ 26.9/38.8 MB 25.1 MB/s eta 0:00:01\n",
      "   ---------------------------- ----------- 27.7/38.8 MB 23.4 MB/s eta 0:00:01\n",
      "   ----------------------------- ---------- 28.8/38.8 MB 26.2 MB/s eta 0:00:01\n",
      "   ------------------------------- -------- 30.3/38.8 MB 25.2 MB/s eta 0:00:01\n",
      "   -------------------------------- ------- 31.8/38.8 MB 25.1 MB/s eta 0:00:01\n",
      "   ---------------------------------- ----- 33.7/38.8 MB 26.2 MB/s eta 0:00:01\n",
      "   ----------------------------------- ---- 34.3/38.8 MB 24.2 MB/s eta 0:00:01\n",
      "   ------------------------------------- -- 36.2/38.8 MB 29.7 MB/s eta 0:00:01\n",
      "   ---------------------------------------  38.0/38.8 MB 32.7 MB/s eta 0:00:01\n",
      "   ---------------------------------------  38.8/38.8 MB 32.7 MB/s eta 0:00:01\n",
      "   ---------------------------------------  38.8/38.8 MB 32.7 MB/s eta 0:00:01\n",
      "   ---------------------------------------- 38.8/38.8 MB 25.1 MB/s eta 0:00:00\n",
      "Installing collected packages: opencv-python\n",
      "Successfully installed opencv-python-4.10.0.84\n"
     ]
    }
   ],
   "source": [
    "!pip install opencv-python"
   ]
  },
  {
   "cell_type": "markdown",
   "id": "0066801a-9e46-4e04-aeb5-2ad0d205324b",
   "metadata": {},
   "source": [
    "## Real-Time Image Processing with SIMD"
   ]
  },
  {
   "cell_type": "code",
   "execution_count": null,
   "id": "4bae3642-8490-466b-8d40-c1c98d34bc9e",
   "metadata": {},
   "outputs": [
    {
     "name": "stdout",
     "output_type": "stream",
     "text": [
      "Time taken for manual Gaussian blur (Without SIMD): 6.8529 seconds\n",
      "Time taken for SIMD-based Gaussian blur (With SIMD): 0.0030 seconds\n"
     ]
    }
   ],
   "source": [
    "import cv2\n",
    "\n",
    "# Load an image from a file\n",
    "image = cv2.imread('C:/Users/tabendarkar/OneDrive - California State University Chico/Desktop/OIP.jpg')\n",
    "\n",
    "# Function to apply Gaussian blur manually (without SIMD)\n",
    "def manual_gaussian_blur(image, kernel_size=5, sigma=1.0):\n",
    "    # Create Gaussian kernel\n",
    "    kernel = np.fromfunction(\n",
    "        lambda x, y: (1/ (2 * np.pi * sigma ** 2)) * np.exp(- ((x - (kernel_size - 1) // 2) ** 2 + (y - (kernel_size - 1) // 2) ** 2) / (2 * sigma ** 2)),\n",
    "        (kernel_size, kernel_size)\n",
    "    )\n",
    "    kernel /= np.sum(kernel)  # Normalize the kernel\n",
    "    \n",
    "    # Apply convolution manually\n",
    "    padded_image = np.pad(image, ((kernel_size // 2, kernel_size // 2), (kernel_size // 2, kernel_size // 2), (0, 0)), mode='constant')\n",
    "    result = np.zeros_like(image)\n",
    "    \n",
    "    for i in range(image.shape[0]):\n",
    "        for j in range(image.shape[1]):\n",
    "            for c in range(3):  # RGB channels\n",
    "                result[i, j, c] = np.sum(padded_image[i:i+kernel_size, j:j+kernel_size, c] * kernel)\n",
    "    return result\n",
    "\n",
    "# Function to apply Gaussian blur using SIMD (NumPy optimized)\n",
    "def simd_gaussian_blur(image, kernel_size=5, sigma=1.0):\n",
    "    kernel = np.fromfunction(\n",
    "        lambda x, y: (1/ (2 * np.pi * sigma ** 2)) * np.exp(- ((x - (kernel_size - 1) // 2) ** 2 + (y - (kernel_size - 1) // 2) ** 2) / (2 * sigma ** 2)),\n",
    "        (kernel_size, kernel_size)\n",
    "    )\n",
    "    kernel /= np.sum(kernel)  # Normalize the kernel\n",
    "    return cv2.filter2D(image, -1, kernel)  # OpenCV optimized filter (SIMD under the hood)\n",
    "\n",
    "# Measure time for manual Gaussian blur (Without SIMD)\n",
    "start = time.time()\n",
    "manual_blurred_image = manual_gaussian_blur(image)\n",
    "end = time.time()\n",
    "print(f\"Time taken for manual Gaussian blur (Without SIMD): {end - start:.4f} seconds\")\n",
    "\n",
    "# Measure time for SIMD-based Gaussian blur (Using OpenCV optimized function)\n",
    "start = time.time()\n",
    "simd_blurred_image = simd_gaussian_blur(image)\n",
    "end = time.time()\n",
    "print(f\"Time taken for SIMD-based Gaussian blur (With SIMD): {end - start:.4f} seconds\")\n",
    "\n",
    "# Display the images (optional)\n",
    "cv2.imshow('Original Image', image)\n",
    "cv2.imshow('Manual Gaussian Blur', manual_blurred_image)\n",
    "cv2.imshow('SIMD Gaussian Blur', simd_blurred_image)\n",
    "cv2.waitKey(0)\n",
    "cv2.destroyAllWindows()\n"
   ]
  }
 ],
 "metadata": {
  "kernelspec": {
   "display_name": "Python 3 (ipykernel)",
   "language": "python",
   "name": "python3"
  },
  "language_info": {
   "codemirror_mode": {
    "name": "ipython",
    "version": 3
   },
   "file_extension": ".py",
   "mimetype": "text/x-python",
   "name": "python",
   "nbconvert_exporter": "python",
   "pygments_lexer": "ipython3",
   "version": "3.12.4"
  }
 },
 "nbformat": 4,
 "nbformat_minor": 5
}
